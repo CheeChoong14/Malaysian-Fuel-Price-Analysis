{
 "cells": [
  {
   "cell_type": "markdown",
   "id": "193bc856",
   "metadata": {},
   "source": [
    "Load Dataset "
   ]
  },
  {
   "cell_type": "code",
   "execution_count": 1,
   "id": "38bdc5e3",
   "metadata": {},
   "outputs": [
    {
     "data": {
      "text/html": [
       "<div>\n",
       "<style scoped>\n",
       "    .dataframe tbody tr th:only-of-type {\n",
       "        vertical-align: middle;\n",
       "    }\n",
       "\n",
       "    .dataframe tbody tr th {\n",
       "        vertical-align: top;\n",
       "    }\n",
       "\n",
       "    .dataframe thead th {\n",
       "        text-align: right;\n",
       "    }\n",
       "</style>\n",
       "<table border=\"1\" class=\"dataframe\">\n",
       "  <thead>\n",
       "    <tr style=\"text-align: right;\">\n",
       "      <th></th>\n",
       "      <th>date</th>\n",
       "      <th>ron95</th>\n",
       "      <th>ron97</th>\n",
       "      <th>diesel</th>\n",
       "      <th>series_type</th>\n",
       "      <th>diesel_eastmsia</th>\n",
       "    </tr>\n",
       "  </thead>\n",
       "  <tbody>\n",
       "    <tr>\n",
       "      <th>0</th>\n",
       "      <td>2025-06-12</td>\n",
       "      <td>2.05</td>\n",
       "      <td>3.07</td>\n",
       "      <td>2.74</td>\n",
       "      <td>level</td>\n",
       "      <td>2.15</td>\n",
       "    </tr>\n",
       "    <tr>\n",
       "      <th>1</th>\n",
       "      <td>2025-06-05</td>\n",
       "      <td>2.05</td>\n",
       "      <td>3.07</td>\n",
       "      <td>2.74</td>\n",
       "      <td>level</td>\n",
       "      <td>2.15</td>\n",
       "    </tr>\n",
       "    <tr>\n",
       "      <th>2</th>\n",
       "      <td>2025-05-29</td>\n",
       "      <td>2.05</td>\n",
       "      <td>3.10</td>\n",
       "      <td>2.77</td>\n",
       "      <td>level</td>\n",
       "      <td>2.15</td>\n",
       "    </tr>\n",
       "    <tr>\n",
       "      <th>3</th>\n",
       "      <td>2025-05-22</td>\n",
       "      <td>2.05</td>\n",
       "      <td>3.10</td>\n",
       "      <td>2.80</td>\n",
       "      <td>level</td>\n",
       "      <td>2.15</td>\n",
       "    </tr>\n",
       "    <tr>\n",
       "      <th>4</th>\n",
       "      <td>2025-05-15</td>\n",
       "      <td>2.05</td>\n",
       "      <td>3.07</td>\n",
       "      <td>2.77</td>\n",
       "      <td>level</td>\n",
       "      <td>2.15</td>\n",
       "    </tr>\n",
       "    <tr>\n",
       "      <th>...</th>\n",
       "      <td>...</td>\n",
       "      <td>...</td>\n",
       "      <td>...</td>\n",
       "      <td>...</td>\n",
       "      <td>...</td>\n",
       "      <td>...</td>\n",
       "    </tr>\n",
       "    <tr>\n",
       "      <th>820</th>\n",
       "      <td>2017-05-04</td>\n",
       "      <td>-0.10</td>\n",
       "      <td>-0.10</td>\n",
       "      <td>-0.06</td>\n",
       "      <td>change_weekly</td>\n",
       "      <td>-0.06</td>\n",
       "    </tr>\n",
       "    <tr>\n",
       "      <th>821</th>\n",
       "      <td>2017-04-27</td>\n",
       "      <td>-0.06</td>\n",
       "      <td>-0.05</td>\n",
       "      <td>-0.07</td>\n",
       "      <td>change_weekly</td>\n",
       "      <td>-0.07</td>\n",
       "    </tr>\n",
       "    <tr>\n",
       "      <th>822</th>\n",
       "      <td>2017-04-20</td>\n",
       "      <td>0.03</td>\n",
       "      <td>0.02</td>\n",
       "      <td>0.05</td>\n",
       "      <td>change_weekly</td>\n",
       "      <td>0.05</td>\n",
       "    </tr>\n",
       "    <tr>\n",
       "      <th>823</th>\n",
       "      <td>2017-04-13</td>\n",
       "      <td>0.08</td>\n",
       "      <td>0.09</td>\n",
       "      <td>0.08</td>\n",
       "      <td>change_weekly</td>\n",
       "      <td>0.08</td>\n",
       "    </tr>\n",
       "    <tr>\n",
       "      <th>824</th>\n",
       "      <td>2017-04-06</td>\n",
       "      <td>0.03</td>\n",
       "      <td>0.02</td>\n",
       "      <td>-0.03</td>\n",
       "      <td>change_weekly</td>\n",
       "      <td>-0.03</td>\n",
       "    </tr>\n",
       "  </tbody>\n",
       "</table>\n",
       "<p>825 rows × 6 columns</p>\n",
       "</div>"
      ],
      "text/plain": [
       "           date  ron95  ron97  diesel    series_type  diesel_eastmsia\n",
       "0    2025-06-12   2.05   3.07    2.74          level             2.15\n",
       "1    2025-06-05   2.05   3.07    2.74          level             2.15\n",
       "2    2025-05-29   2.05   3.10    2.77          level             2.15\n",
       "3    2025-05-22   2.05   3.10    2.80          level             2.15\n",
       "4    2025-05-15   2.05   3.07    2.77          level             2.15\n",
       "..          ...    ...    ...     ...            ...              ...\n",
       "820  2017-05-04  -0.10  -0.10   -0.06  change_weekly            -0.06\n",
       "821  2017-04-27  -0.06  -0.05   -0.07  change_weekly            -0.07\n",
       "822  2017-04-20   0.03   0.02    0.05  change_weekly             0.05\n",
       "823  2017-04-13   0.08   0.09    0.08  change_weekly             0.08\n",
       "824  2017-04-06   0.03   0.02   -0.03  change_weekly            -0.03\n",
       "\n",
       "[825 rows x 6 columns]"
      ]
     },
     "execution_count": 1,
     "metadata": {},
     "output_type": "execute_result"
    }
   ],
   "source": [
    "import json\n",
    "import pandas as pd\n",
    "\n",
    "# load data from the JSON file\n",
    "with open(\"fuel_prices_raw.json\", \"r\", encoding=\"utf-8\") as f:\n",
    "    raw = json.load(f)\n",
    "\n",
    "df = pd.DataFrame(raw)\n",
    "\n",
    "df\n"
   ]
  },
  {
   "cell_type": "markdown",
   "id": "a2beeef4",
   "metadata": {},
   "source": [
    "Data Transformation "
   ]
  },
  {
   "cell_type": "code",
   "execution_count": 2,
   "id": "f7faba12",
   "metadata": {},
   "outputs": [
    {
     "data": {
      "text/html": [
       "<div>\n",
       "<style scoped>\n",
       "    .dataframe tbody tr th:only-of-type {\n",
       "        vertical-align: middle;\n",
       "    }\n",
       "\n",
       "    .dataframe tbody tr th {\n",
       "        vertical-align: top;\n",
       "    }\n",
       "\n",
       "    .dataframe thead th {\n",
       "        text-align: right;\n",
       "    }\n",
       "</style>\n",
       "<table border=\"1\" class=\"dataframe\">\n",
       "  <thead>\n",
       "    <tr style=\"text-align: right;\">\n",
       "      <th></th>\n",
       "      <th>Date</th>\n",
       "      <th>RON95_price</th>\n",
       "      <th>RON97_price</th>\n",
       "      <th>Diesel_price</th>\n",
       "      <th>series_type</th>\n",
       "      <th>Diesel_EastMY</th>\n",
       "    </tr>\n",
       "  </thead>\n",
       "  <tbody>\n",
       "    <tr>\n",
       "      <th>0</th>\n",
       "      <td>2017-03-30</td>\n",
       "      <td>2.13</td>\n",
       "      <td>2.41</td>\n",
       "      <td>2.11</td>\n",
       "      <td>level</td>\n",
       "      <td>2.11</td>\n",
       "    </tr>\n",
       "    <tr>\n",
       "      <th>1</th>\n",
       "      <td>2017-04-06</td>\n",
       "      <td>2.16</td>\n",
       "      <td>2.43</td>\n",
       "      <td>2.08</td>\n",
       "      <td>level</td>\n",
       "      <td>2.08</td>\n",
       "    </tr>\n",
       "    <tr>\n",
       "      <th>2</th>\n",
       "      <td>2017-04-06</td>\n",
       "      <td>0.03</td>\n",
       "      <td>0.02</td>\n",
       "      <td>-0.03</td>\n",
       "      <td>change_weekly</td>\n",
       "      <td>-0.03</td>\n",
       "    </tr>\n",
       "    <tr>\n",
       "      <th>3</th>\n",
       "      <td>2017-04-13</td>\n",
       "      <td>0.08</td>\n",
       "      <td>0.09</td>\n",
       "      <td>0.08</td>\n",
       "      <td>change_weekly</td>\n",
       "      <td>0.08</td>\n",
       "    </tr>\n",
       "    <tr>\n",
       "      <th>4</th>\n",
       "      <td>2017-04-13</td>\n",
       "      <td>2.24</td>\n",
       "      <td>2.52</td>\n",
       "      <td>2.16</td>\n",
       "      <td>level</td>\n",
       "      <td>2.16</td>\n",
       "    </tr>\n",
       "  </tbody>\n",
       "</table>\n",
       "</div>"
      ],
      "text/plain": [
       "        Date  RON95_price  RON97_price  Diesel_price    series_type  \\\n",
       "0 2017-03-30         2.13         2.41          2.11          level   \n",
       "1 2017-04-06         2.16         2.43          2.08          level   \n",
       "2 2017-04-06         0.03         0.02         -0.03  change_weekly   \n",
       "3 2017-04-13         0.08         0.09          0.08  change_weekly   \n",
       "4 2017-04-13         2.24         2.52          2.16          level   \n",
       "\n",
       "   Diesel_EastMY  \n",
       "0           2.11  \n",
       "1           2.08  \n",
       "2          -0.03  \n",
       "3           0.08  \n",
       "4           2.16  "
      ]
     },
     "execution_count": 2,
     "metadata": {},
     "output_type": "execute_result"
    }
   ],
   "source": [
    "#rename columns for clarity\n",
    "df = df.rename(columns={\n",
    "    'date': 'Date',\n",
    "    'ron95': 'RON95_price',\n",
    "    'ron97': 'RON97_price',\n",
    "    'diesel': 'Diesel_price',\n",
    "    'diesel_eastmsia': 'Diesel_EastMY'\n",
    "})\n",
    "\n",
    "# convert date column to datetime format and sort by date\n",
    "df['Date'] = pd.to_datetime(df['Date'], format='%Y-%m-%d')\n",
    "df = df.sort_values('Date').reset_index(drop=True)\n",
    "\n",
    "df.head()\n"
   ]
  },
  {
   "cell_type": "markdown",
   "id": "f0efe237",
   "metadata": {},
   "source": [
    "We will just choose with the level series as it provides actual weekly prices and its suitable for policy impact analysis"
   ]
  },
  {
   "cell_type": "code",
   "execution_count": 3,
   "id": "10f23efd",
   "metadata": {},
   "outputs": [
    {
     "data": {
      "text/plain": [
       "((413, 5),\n",
       "         Date  RON95_price  RON97_price  Diesel_price  Diesel_EastMY\n",
       " 0 2017-03-30         2.13         2.41          2.11           2.11\n",
       " 1 2017-04-06         2.16         2.43          2.08           2.08\n",
       " 4 2017-04-13         2.24         2.52          2.16           2.16\n",
       " 5 2017-04-20         2.27         2.54          2.21           2.21\n",
       " 8 2017-04-27         2.21         2.49          2.14           2.14)"
      ]
     },
     "execution_count": 3,
     "metadata": {},
     "output_type": "execute_result"
    }
   ],
   "source": [
    "# filter the DataFrame to include only 'level' series_type\n",
    "df_level = df.loc[df['series_type'] == 'level', ['Date','RON95_price','RON97_price','Diesel_price','Diesel_EastMY']]\n",
    "df_level.shape, df_level.head()\n"
   ]
  },
  {
   "cell_type": "markdown",
   "id": "02201e4c",
   "metadata": {},
   "source": [
    "We observed that the data comes with weekly basis, let's calculate the difference for each week on each fuel type. "
   ]
  },
  {
   "cell_type": "code",
   "execution_count": 4,
   "id": "ecad7a5a",
   "metadata": {},
   "outputs": [
    {
     "data": {
      "text/html": [
       "<div>\n",
       "<style scoped>\n",
       "    .dataframe tbody tr th:only-of-type {\n",
       "        vertical-align: middle;\n",
       "    }\n",
       "\n",
       "    .dataframe tbody tr th {\n",
       "        vertical-align: top;\n",
       "    }\n",
       "\n",
       "    .dataframe thead th {\n",
       "        text-align: right;\n",
       "    }\n",
       "</style>\n",
       "<table border=\"1\" class=\"dataframe\">\n",
       "  <thead>\n",
       "    <tr style=\"text-align: right;\">\n",
       "      <th></th>\n",
       "      <th>Date</th>\n",
       "      <th>RON95_price</th>\n",
       "      <th>RON97_price</th>\n",
       "      <th>Diesel_price</th>\n",
       "      <th>Diesel_EastMY</th>\n",
       "      <th>RON95_diff</th>\n",
       "      <th>RON97_diff</th>\n",
       "      <th>Diesel_diff</th>\n",
       "      <th>DieselEast_diff</th>\n",
       "    </tr>\n",
       "  </thead>\n",
       "  <tbody>\n",
       "    <tr>\n",
       "      <th>0</th>\n",
       "      <td>2017-03-30</td>\n",
       "      <td>2.13</td>\n",
       "      <td>2.41</td>\n",
       "      <td>2.11</td>\n",
       "      <td>2.11</td>\n",
       "      <td>NaN</td>\n",
       "      <td>NaN</td>\n",
       "      <td>NaN</td>\n",
       "      <td>NaN</td>\n",
       "    </tr>\n",
       "    <tr>\n",
       "      <th>1</th>\n",
       "      <td>2017-04-06</td>\n",
       "      <td>2.16</td>\n",
       "      <td>2.43</td>\n",
       "      <td>2.08</td>\n",
       "      <td>2.08</td>\n",
       "      <td>0.03</td>\n",
       "      <td>0.02</td>\n",
       "      <td>-0.03</td>\n",
       "      <td>-0.03</td>\n",
       "    </tr>\n",
       "    <tr>\n",
       "      <th>4</th>\n",
       "      <td>2017-04-13</td>\n",
       "      <td>2.24</td>\n",
       "      <td>2.52</td>\n",
       "      <td>2.16</td>\n",
       "      <td>2.16</td>\n",
       "      <td>0.08</td>\n",
       "      <td>0.09</td>\n",
       "      <td>0.08</td>\n",
       "      <td>0.08</td>\n",
       "    </tr>\n",
       "    <tr>\n",
       "      <th>5</th>\n",
       "      <td>2017-04-20</td>\n",
       "      <td>2.27</td>\n",
       "      <td>2.54</td>\n",
       "      <td>2.21</td>\n",
       "      <td>2.21</td>\n",
       "      <td>0.03</td>\n",
       "      <td>0.02</td>\n",
       "      <td>0.05</td>\n",
       "      <td>0.05</td>\n",
       "    </tr>\n",
       "    <tr>\n",
       "      <th>8</th>\n",
       "      <td>2017-04-27</td>\n",
       "      <td>2.21</td>\n",
       "      <td>2.49</td>\n",
       "      <td>2.14</td>\n",
       "      <td>2.14</td>\n",
       "      <td>-0.06</td>\n",
       "      <td>-0.05</td>\n",
       "      <td>-0.07</td>\n",
       "      <td>-0.07</td>\n",
       "    </tr>\n",
       "  </tbody>\n",
       "</table>\n",
       "</div>"
      ],
      "text/plain": [
       "        Date  RON95_price  RON97_price  Diesel_price  Diesel_EastMY  \\\n",
       "0 2017-03-30         2.13         2.41          2.11           2.11   \n",
       "1 2017-04-06         2.16         2.43          2.08           2.08   \n",
       "4 2017-04-13         2.24         2.52          2.16           2.16   \n",
       "5 2017-04-20         2.27         2.54          2.21           2.21   \n",
       "8 2017-04-27         2.21         2.49          2.14           2.14   \n",
       "\n",
       "   RON95_diff  RON97_diff  Diesel_diff  DieselEast_diff  \n",
       "0         NaN         NaN          NaN              NaN  \n",
       "1        0.03        0.02        -0.03            -0.03  \n",
       "4        0.08        0.09         0.08             0.08  \n",
       "5        0.03        0.02         0.05             0.05  \n",
       "8       -0.06       -0.05        -0.07            -0.07  "
      ]
     },
     "execution_count": 4,
     "metadata": {},
     "output_type": "execute_result"
    }
   ],
   "source": [
    "# calculate the difference in prices for each fuel type\n",
    "df_level['RON95_diff']   = df_level['RON95_price'].diff()\n",
    "df_level['RON97_diff']   = df_level['RON97_price'].diff()\n",
    "df_level['Diesel_diff']  = df_level['Diesel_price'].diff()\n",
    "df_level['DieselEast_diff'] = df_level['Diesel_EastMY'].diff()\n",
    "\n",
    "df_level.head()\n"
   ]
  },
  {
   "cell_type": "markdown",
   "id": "87009123",
   "metadata": {},
   "source": [
    "Replace the NAN Values to 0 for the difference"
   ]
  },
  {
   "cell_type": "code",
   "execution_count": 5,
   "id": "48fdb5f2",
   "metadata": {},
   "outputs": [
    {
     "data": {
      "text/html": [
       "<div>\n",
       "<style scoped>\n",
       "    .dataframe tbody tr th:only-of-type {\n",
       "        vertical-align: middle;\n",
       "    }\n",
       "\n",
       "    .dataframe tbody tr th {\n",
       "        vertical-align: top;\n",
       "    }\n",
       "\n",
       "    .dataframe thead th {\n",
       "        text-align: right;\n",
       "    }\n",
       "</style>\n",
       "<table border=\"1\" class=\"dataframe\">\n",
       "  <thead>\n",
       "    <tr style=\"text-align: right;\">\n",
       "      <th></th>\n",
       "      <th>Date</th>\n",
       "      <th>RON95_price</th>\n",
       "      <th>RON97_price</th>\n",
       "      <th>Diesel_price</th>\n",
       "      <th>Diesel_EastMY</th>\n",
       "      <th>RON95_diff</th>\n",
       "      <th>RON97_diff</th>\n",
       "      <th>Diesel_diff</th>\n",
       "      <th>DieselEast_diff</th>\n",
       "    </tr>\n",
       "  </thead>\n",
       "  <tbody>\n",
       "    <tr>\n",
       "      <th>0</th>\n",
       "      <td>2017-03-30</td>\n",
       "      <td>2.13</td>\n",
       "      <td>2.41</td>\n",
       "      <td>2.11</td>\n",
       "      <td>2.11</td>\n",
       "      <td>0.00</td>\n",
       "      <td>0.00</td>\n",
       "      <td>0.00</td>\n",
       "      <td>0.00</td>\n",
       "    </tr>\n",
       "    <tr>\n",
       "      <th>1</th>\n",
       "      <td>2017-04-06</td>\n",
       "      <td>2.16</td>\n",
       "      <td>2.43</td>\n",
       "      <td>2.08</td>\n",
       "      <td>2.08</td>\n",
       "      <td>0.03</td>\n",
       "      <td>0.02</td>\n",
       "      <td>-0.03</td>\n",
       "      <td>-0.03</td>\n",
       "    </tr>\n",
       "    <tr>\n",
       "      <th>4</th>\n",
       "      <td>2017-04-13</td>\n",
       "      <td>2.24</td>\n",
       "      <td>2.52</td>\n",
       "      <td>2.16</td>\n",
       "      <td>2.16</td>\n",
       "      <td>0.08</td>\n",
       "      <td>0.09</td>\n",
       "      <td>0.08</td>\n",
       "      <td>0.08</td>\n",
       "    </tr>\n",
       "    <tr>\n",
       "      <th>5</th>\n",
       "      <td>2017-04-20</td>\n",
       "      <td>2.27</td>\n",
       "      <td>2.54</td>\n",
       "      <td>2.21</td>\n",
       "      <td>2.21</td>\n",
       "      <td>0.03</td>\n",
       "      <td>0.02</td>\n",
       "      <td>0.05</td>\n",
       "      <td>0.05</td>\n",
       "    </tr>\n",
       "    <tr>\n",
       "      <th>8</th>\n",
       "      <td>2017-04-27</td>\n",
       "      <td>2.21</td>\n",
       "      <td>2.49</td>\n",
       "      <td>2.14</td>\n",
       "      <td>2.14</td>\n",
       "      <td>-0.06</td>\n",
       "      <td>-0.05</td>\n",
       "      <td>-0.07</td>\n",
       "      <td>-0.07</td>\n",
       "    </tr>\n",
       "  </tbody>\n",
       "</table>\n",
       "</div>"
      ],
      "text/plain": [
       "        Date  RON95_price  RON97_price  Diesel_price  Diesel_EastMY  \\\n",
       "0 2017-03-30         2.13         2.41          2.11           2.11   \n",
       "1 2017-04-06         2.16         2.43          2.08           2.08   \n",
       "4 2017-04-13         2.24         2.52          2.16           2.16   \n",
       "5 2017-04-20         2.27         2.54          2.21           2.21   \n",
       "8 2017-04-27         2.21         2.49          2.14           2.14   \n",
       "\n",
       "   RON95_diff  RON97_diff  Diesel_diff  DieselEast_diff  \n",
       "0        0.00        0.00         0.00             0.00  \n",
       "1        0.03        0.02        -0.03            -0.03  \n",
       "4        0.08        0.09         0.08             0.08  \n",
       "5        0.03        0.02         0.05             0.05  \n",
       "8       -0.06       -0.05        -0.07            -0.07  "
      ]
     },
     "execution_count": 5,
     "metadata": {},
     "output_type": "execute_result"
    }
   ],
   "source": [
    "# Replace NaN values with 0\n",
    "df_level['RON95_diff'] = df_level['RON95_diff'].fillna(0)\n",
    "df_level['RON97_diff'] = df_level['RON97_diff'].fillna(0)\n",
    "df_level['Diesel_diff'] = df_level['Diesel_diff'].fillna(0)\n",
    "df_level['DieselEast_diff'] = df_level['DieselEast_diff'].fillna(0)\n",
    "\n",
    "df_level.head()"
   ]
  },
  {
   "cell_type": "code",
   "execution_count": 6,
   "id": "81313587",
   "metadata": {},
   "outputs": [
    {
     "data": {
      "text/html": [
       "<div>\n",
       "<style scoped>\n",
       "    .dataframe tbody tr th:only-of-type {\n",
       "        vertical-align: middle;\n",
       "    }\n",
       "\n",
       "    .dataframe tbody tr th {\n",
       "        vertical-align: top;\n",
       "    }\n",
       "\n",
       "    .dataframe thead th {\n",
       "        text-align: right;\n",
       "    }\n",
       "</style>\n",
       "<table border=\"1\" class=\"dataframe\">\n",
       "  <thead>\n",
       "    <tr style=\"text-align: right;\">\n",
       "      <th></th>\n",
       "      <th>Date</th>\n",
       "      <th>RON95_price</th>\n",
       "      <th>RON97_price</th>\n",
       "      <th>Diesel_price</th>\n",
       "      <th>Diesel_EastMY</th>\n",
       "      <th>RON95_diff</th>\n",
       "      <th>RON97_diff</th>\n",
       "      <th>Diesel_diff</th>\n",
       "      <th>DieselEast_diff</th>\n",
       "      <th>RON95_4wk_avg</th>\n",
       "      <th>RON97_4wk_avg</th>\n",
       "      <th>Diesel_4wk_avg</th>\n",
       "      <th>DieselEast_4wk_avg</th>\n",
       "    </tr>\n",
       "  </thead>\n",
       "  <tbody>\n",
       "    <tr>\n",
       "      <th>814</th>\n",
       "      <td>2025-05-08</td>\n",
       "      <td>2.05</td>\n",
       "      <td>3.10</td>\n",
       "      <td>2.80</td>\n",
       "      <td>2.15</td>\n",
       "      <td>0.0</td>\n",
       "      <td>-0.08</td>\n",
       "      <td>-0.08</td>\n",
       "      <td>0.0</td>\n",
       "      <td>2.05</td>\n",
       "      <td>3.1600</td>\n",
       "      <td>2.8600</td>\n",
       "      <td>2.15</td>\n",
       "    </tr>\n",
       "    <tr>\n",
       "      <th>815</th>\n",
       "      <td>2025-05-15</td>\n",
       "      <td>2.05</td>\n",
       "      <td>3.07</td>\n",
       "      <td>2.77</td>\n",
       "      <td>2.15</td>\n",
       "      <td>0.0</td>\n",
       "      <td>-0.03</td>\n",
       "      <td>-0.03</td>\n",
       "      <td>0.0</td>\n",
       "      <td>2.05</td>\n",
       "      <td>3.1325</td>\n",
       "      <td>2.8325</td>\n",
       "      <td>2.15</td>\n",
       "    </tr>\n",
       "    <tr>\n",
       "      <th>817</th>\n",
       "      <td>2025-05-22</td>\n",
       "      <td>2.05</td>\n",
       "      <td>3.10</td>\n",
       "      <td>2.80</td>\n",
       "      <td>2.15</td>\n",
       "      <td>0.0</td>\n",
       "      <td>0.03</td>\n",
       "      <td>0.03</td>\n",
       "      <td>0.0</td>\n",
       "      <td>2.05</td>\n",
       "      <td>3.1125</td>\n",
       "      <td>2.8125</td>\n",
       "      <td>2.15</td>\n",
       "    </tr>\n",
       "    <tr>\n",
       "      <th>820</th>\n",
       "      <td>2025-05-29</td>\n",
       "      <td>2.05</td>\n",
       "      <td>3.10</td>\n",
       "      <td>2.77</td>\n",
       "      <td>2.15</td>\n",
       "      <td>0.0</td>\n",
       "      <td>0.00</td>\n",
       "      <td>-0.03</td>\n",
       "      <td>0.0</td>\n",
       "      <td>2.05</td>\n",
       "      <td>3.0925</td>\n",
       "      <td>2.7850</td>\n",
       "      <td>2.15</td>\n",
       "    </tr>\n",
       "    <tr>\n",
       "      <th>821</th>\n",
       "      <td>2025-06-05</td>\n",
       "      <td>2.05</td>\n",
       "      <td>3.07</td>\n",
       "      <td>2.74</td>\n",
       "      <td>2.15</td>\n",
       "      <td>0.0</td>\n",
       "      <td>-0.03</td>\n",
       "      <td>-0.03</td>\n",
       "      <td>0.0</td>\n",
       "      <td>2.05</td>\n",
       "      <td>3.0850</td>\n",
       "      <td>2.7700</td>\n",
       "      <td>2.15</td>\n",
       "    </tr>\n",
       "    <tr>\n",
       "      <th>824</th>\n",
       "      <td>2025-06-12</td>\n",
       "      <td>2.05</td>\n",
       "      <td>3.07</td>\n",
       "      <td>2.74</td>\n",
       "      <td>2.15</td>\n",
       "      <td>0.0</td>\n",
       "      <td>0.00</td>\n",
       "      <td>0.00</td>\n",
       "      <td>0.0</td>\n",
       "      <td>2.05</td>\n",
       "      <td>3.0850</td>\n",
       "      <td>2.7625</td>\n",
       "      <td>2.15</td>\n",
       "    </tr>\n",
       "  </tbody>\n",
       "</table>\n",
       "</div>"
      ],
      "text/plain": [
       "          Date  RON95_price  RON97_price  Diesel_price  Diesel_EastMY  \\\n",
       "814 2025-05-08         2.05         3.10          2.80           2.15   \n",
       "815 2025-05-15         2.05         3.07          2.77           2.15   \n",
       "817 2025-05-22         2.05         3.10          2.80           2.15   \n",
       "820 2025-05-29         2.05         3.10          2.77           2.15   \n",
       "821 2025-06-05         2.05         3.07          2.74           2.15   \n",
       "824 2025-06-12         2.05         3.07          2.74           2.15   \n",
       "\n",
       "     RON95_diff  RON97_diff  Diesel_diff  DieselEast_diff  RON95_4wk_avg  \\\n",
       "814         0.0       -0.08        -0.08              0.0           2.05   \n",
       "815         0.0       -0.03        -0.03              0.0           2.05   \n",
       "817         0.0        0.03         0.03              0.0           2.05   \n",
       "820         0.0        0.00        -0.03              0.0           2.05   \n",
       "821         0.0       -0.03        -0.03              0.0           2.05   \n",
       "824         0.0        0.00         0.00              0.0           2.05   \n",
       "\n",
       "     RON97_4wk_avg  Diesel_4wk_avg  DieselEast_4wk_avg  \n",
       "814         3.1600          2.8600                2.15  \n",
       "815         3.1325          2.8325                2.15  \n",
       "817         3.1125          2.8125                2.15  \n",
       "820         3.0925          2.7850                2.15  \n",
       "821         3.0850          2.7700                2.15  \n",
       "824         3.0850          2.7625                2.15  "
      ]
     },
     "execution_count": 6,
     "metadata": {},
     "output_type": "execute_result"
    }
   ],
   "source": [
    "# calculate the 4-week rolling average for each fuel type\n",
    "window = 4\n",
    "df_level['RON95_4wk_avg']      = df_level['RON95_price'].rolling(window).mean()\n",
    "df_level['RON97_4wk_avg']      = df_level['RON97_price'].rolling(window).mean()\n",
    "df_level['Diesel_4wk_avg']     = df_level['Diesel_price'].rolling(window).mean()\n",
    "df_level['DieselEast_4wk_avg'] = df_level['Diesel_EastMY'].rolling(window).mean()\n",
    "\n",
    "df_level.tail(6)\n"
   ]
  },
  {
   "cell_type": "markdown",
   "id": "085f1153",
   "metadata": {},
   "source": [
    "Visualisation"
   ]
  },
  {
   "cell_type": "markdown",
   "id": "2eb8a338",
   "metadata": {},
   "source": [
    "Weekly RON95 vs RON97 Petrol Price"
   ]
  },
  {
   "cell_type": "code",
   "execution_count": 7,
   "id": "818ebb49",
   "metadata": {},
   "outputs": [
    {
     "data": {
      "image/png": "[encoded data removed]",
      "text/plain": [
       "<Figure size 1000x500 with 1 Axes>"
      ]
     },
     "metadata": {},
     "output_type": "display_data"
    }
   ],
   "source": [
    "import matplotlib.pyplot as plt\n",
    "\n",
    "# plot the RON95 and RON97 prices over time\n",
    "plt.figure(figsize=(10,5))\n",
    "plt.plot(df_level['Date'], df_level['RON95_price'], label='RON95')\n",
    "plt.plot(df_level['Date'], df_level['RON97_price'], label='RON97', linestyle='--')\n",
    "plt.title(\"Weekly RON95 vs RON97 Petrol Prices\")\n",
    "plt.xlabel(\"Date\")\n",
    "plt.ylabel(\"Price (MYR/litre)\")\n",
    "plt.legend()\n",
    "plt.grid(True)\n",
    "plt.show()\n"
   ]
  },
  {
   "cell_type": "code",
   "execution_count": 14,
   "id": "ad24bfde",
   "metadata": {},
   "outputs": [
    {
     "name": "stdout",
     "output_type": "stream",
     "text": [
      "Largest RON97 weekly jump: +RM 0.37 (8.55%) on week of 2022-05-26\n"
     ]
    }
   ],
   "source": [
    "# Reset index so we can use integer-based indexing\n",
    "df_temp = df_level.reset_index()\n",
    "\n",
    "# Find the index of the max weekly jump\n",
    "idx = df_temp['RON97_diff'].idxmax()\n",
    "row = df_temp.loc[idx]\n",
    "\n",
    "# Get previous week's price\n",
    "if idx > 0:\n",
    "    prev_price = df_temp.loc[idx - 1, 'RON97_price']\n",
    "    percent_change = (row['RON97_diff'] / prev_price) * 100 if prev_price != 0 else 0\n",
    "else:\n",
    "    percent_change = 0\n",
    "\n",
    "print(f\"Largest RON97 weekly jump: +RM {row['RON97_diff']:.2f} \"\n",
    "      f\"({percent_change:.2f}%) on week of {row['Date'].date()}\")\n"
   ]
  },
  {
   "cell_type": "code",
   "execution_count": 12,
   "id": "b727475a",
   "metadata": {},
   "outputs": [
    {
     "name": "stdout",
     "output_type": "stream",
     "text": [
      "Largest RON97 monthly jump: +RM 0.76 (19.29%) from April 2022 to May 2022\n"
     ]
    }
   ],
   "source": [
    "# Monthly analysis (RON97)\n",
    "df_level = df_level.reset_index().set_index('Date')\n",
    "monthly = df_level['RON97_price'].resample('ME').last()\n",
    "monthly_diff = monthly.diff()\n",
    "\n",
    "# Get the index of the largest monthly increase\n",
    "max_month_idx = monthly_diff.idxmax()\n",
    "max_jump = monthly_diff.loc[max_month_idx]\n",
    "\n",
    "# Get previous month's price safely using .shift\n",
    "prev_price = monthly.shift(1).loc[max_month_idx]\n",
    "\n",
    "# Calculate percentage change\n",
    "percent_change = (max_jump / prev_price) * 100 if prev_price != 0 else 0\n",
    "\n",
    "# Print the result\n",
    "print(f\"Largest RON97 monthly jump: +RM {max_jump:.2f} \"\n",
    "      f\"({percent_change:.2f}%) from {max_month_idx - pd.offsets.MonthEnd(1):%B %Y} \"\n",
    "      f\"to {max_month_idx:%B %Y}\")\n"
   ]
  },
  {
   "cell_type": "markdown",
   "id": "0048385c",
   "metadata": {},
   "source": [
    "### From the visual and calculation, it shows that "
   ]
  },
  {
   "cell_type": "markdown",
   "id": "f4694eec",
   "metadata": {},
   "source": [
    "RON95 shows long periods of flat price, particularly from 2021 onwards.\n",
    "- Interpretation: RON95 is price-controlled by the government, hence it appears almost flat, especially since subsidies resumed in 2020.\n",
    "\n",
    "RON97 shows significant ups and downs, largest weekly jump of 8.55% and monthly jump of 19.29%. \n",
    "- Interpretation: RON97 is market-floated, meaning its price adjusts weekly based on global oil prices, hence there's fluctuations.\n",
    "\n",
    "\n",
    "Both RON95 and RON97 drop sharply in 2020.\n",
    "- This reflects the global oil price crash during the COVID-19 pandemic (especially April 2020), when demand low.\n",
    "\n",
    "RON97 rises rapidly from ~2021 to a peak in early 2022.\n",
    "- This corresponds with post-pandemic economic rebound,Russia-Ukraine war disrupting global oil supply \n",
    "\n",
    "\n",
    "\n"
   ]
  },
  {
   "cell_type": "markdown",
   "id": "5dd3d814",
   "metadata": {},
   "source": [
    "### Let's observe the comparison Diesel Price for Penisular and East Malaysia"
   ]
  },
  {
   "cell_type": "code",
   "execution_count": 16,
   "id": "871220f9",
   "metadata": {},
   "outputs": [
    {
     "data": {
      "image/png": "[encoded data removed]",
      "text/plain": [
       "<Figure size 1000x500 with 1 Axes>"
      ]
     },
     "metadata": {},
     "output_type": "display_data"
    }
   ],
   "source": [
    "df_level = df_level.reset_index('Date')\n",
    "# plot the diesel prices for Peninsular Malaysia and East Malaysia\n",
    "plt.figure(figsize=(10,5))\n",
    "\n",
    "plt.plot(df_level['Date'], df_level['Diesel_price'], label='Peninsular Diesel')\n",
    "plt.plot(df_level['Date'], df_level['Diesel_EastMY'], label='East Malaysia Diesel')\n",
    "plt.title(\"Diesel Prices: Peninsular vs East Malaysia\")\n",
    "plt.xlabel(\"Date\")\n",
    "plt.ylabel(\"MYR/litre\")\n",
    "plt.legend()\n",
    "plt.show()\n"
   ]
  },
  {
   "cell_type": "markdown",
   "id": "17eb3c23",
   "metadata": {},
   "source": [
    "Before Jun 2024, it indicates that \n",
    "- Both regions had nearly identical diesel prices before June 2024.\n",
    "- estimated that national diesel subsidy policy was imposed across all regions.\n"
   ]
  },
  {
   "cell_type": "markdown",
   "id": "374aaf92",
   "metadata": {},
   "source": [
    "Let's deep dive to observe post 2024 price activity"
   ]
  },
  {
   "cell_type": "code",
   "execution_count": null,
   "id": "c2e5d07c",
   "metadata": {},
   "outputs": [
    {
     "data": {
      "image/png": "[encoded data removed]",
      "text/plain": [
       "<Figure size 1000x500 with 1 Axes>"
      ]
     },
     "metadata": {},
     "output_type": "display_data"
    }
   ],
   "source": [
    "# Post-split analysis for East Malaysia diesel prices\n",
    "\n",
    "# Assuming df_level is already defined and contains the necessary data\n",
    "# define the split date\n",
    "split_date = pd.to_datetime(\"2024-06-02\")\n",
    "\n",
    "# filter to data after the split date\n",
    "df_post_split = df_level[df_level[\"Date\"] >= split_date]\n",
    "\n",
    "# plot\n",
    "plt.figure(figsize=(10,5))\n",
    "plt.plot(df_post_split[\"Date\"], df_post_split[\"Diesel_price\"], label=\"Peninsular Diesel\")\n",
    "plt.plot(df_post_split[\"Date\"], df_post_split[\"Diesel_EastMY\"], label=\"East Malaysia Diesel\")\n",
    "plt.title(\"Diesel Prices by Region (Post-Split)\")\n",
    "plt.xlabel(\"Date\")\n",
    "plt.ylabel(\"MYR/litre\")\n",
    "plt.legend()\n",
    "plt.grid(True)\n",
    "plt.show()\n"
   ]
  },
  {
   "cell_type": "markdown",
   "id": "30d494b8",
   "metadata": {},
   "source": [
    "After May 2024, it shows \n",
    "- Peninsular has a sharp increase in June 2024, meaning marks the end of diesel subsidies in Peninsular Malaysia.\n",
    "- The graph has sharp divergence appears in 2024: Peninsular diesel price jumps above RM3.30, while East Malaysia remains flat.\n",
    "- Confirms a diesel subsidy reform policy: Peninsular is floated while East Malaysia is still subsidized.\n",
    "\n"
   ]
  },
  {
   "cell_type": "code",
   "execution_count": 16,
   "id": "2c403623",
   "metadata": {},
   "outputs": [
    {
     "name": "stdout",
     "output_type": "stream",
     "text": [
      "Average weekly diesel price gap (Post-June 2024): RM0.91/litre\n",
      "Maximum observed gap: RM1.20/litre\n"
     ]
    }
   ],
   "source": [
    "# Filter only post-subsidy period\n",
    "post_policy = df_level[df_level['Date'] >= \"2024-06-07\"].copy()\n",
    "post_policy['Diesel_gap'] = post_policy['Diesel_price'] - post_policy['Diesel_EastMY']\n",
    "\n",
    "# Insight: average weekly price gap\n",
    "avg_gap = post_policy['Diesel_gap'].mean()\n",
    "max_gap = post_policy['Diesel_gap'].max()\n",
    "\n",
    "print(f\"Average weekly diesel price gap (Post-June 2024): RM{avg_gap:.2f}/litre\")\n",
    "print(f\"Maximum observed gap: RM{max_gap:.2f}/litre\")\n"
   ]
  },
  {
   "cell_type": "markdown",
   "id": "18e82d20",
   "metadata": {},
   "source": [
    "The average weekly diesel price gap of RM0.91/litre reflects the effective subsidy retained in East Malaysia, where diesel remains fixed at RM2.15/litre, while Peninsular prices float based on market conditions.\n",
    "\n",
    "The maximum observed gap of RM1.20/litre highlights the financial burden shift to Peninsular consumers after subsidy removal, especially during weeks of high global oil prices."
   ]
  },
  {
   "cell_type": "code",
   "execution_count": 17,
   "id": "7fd205b7",
   "metadata": {},
   "outputs": [
    {
     "name": "stdout",
     "output_type": "stream",
     "text": [
      "Diesel Price Volatility (Std. Dev of Weekly Change)\n",
      "Before Policy: RM 0.030\n",
      "After Policy:  RM 0.036\n"
     ]
    }
   ],
   "source": [
    "pre_policy = df_level[df_level['Date'] < \"2024-06-07\"]\n",
    "post_policy = df_level[df_level['Date'] >= \"2024-06-07\"]\n",
    "\n",
    "vol_pre = pre_policy['Diesel_price'].diff().std()\n",
    "vol_post = post_policy['Diesel_price'].diff().std()\n",
    "\n",
    "print(f\"Diesel Price Volatility (Std. Dev of Weekly Change)\")\n",
    "print(f\"Before Policy: RM {vol_pre:.3f}\")\n",
    "print(f\"After Policy:  RM {vol_post:.3f}\")\n"
   ]
  },
  {
   "cell_type": "markdown",
   "id": "0c6909f6",
   "metadata": {},
   "source": [
    "Diesel price volatility increased slightly from RM0.030 to RM0.036 after the subsidy reform in June 2024, indicating greater weekly price fluctuations in Peninsular Malaysia under a market-based pricing system.\n",
    "\n",
    "This change suggests that removal of subsidies introduced more sensitivity to global fuel price dynamics, exposing consumers to more price variability week over week."
   ]
  },
  {
   "cell_type": "code",
   "execution_count": 18,
   "id": "6979ea0a",
   "metadata": {},
   "outputs": [
    {
     "name": "stdout",
     "output_type": "stream",
     "text": [
      "Weekly price trend (slope):\n",
      "Before Policy: RM 0.0000/day\n",
      "After Policy:  RM -0.0012/day\n"
     ]
    }
   ],
   "source": [
    "from sklearn.linear_model import LinearRegression\n",
    "import numpy as np\n",
    "\n",
    "def calc_slope(df, col):\n",
    "    df = df.copy()\n",
    "    df['days'] = (df['Date'] - df['Date'].min()).dt.days\n",
    "    X = df[['days']]\n",
    "    y = df[col]\n",
    "    model = LinearRegression().fit(X, y)\n",
    "    return model.coef_[0]\n",
    "\n",
    "slope_pre = calc_slope(pre_policy, 'Diesel_price')\n",
    "slope_post = calc_slope(post_policy, 'Diesel_price')\n",
    "\n",
    "print(f\"Weekly price trend (slope):\")\n",
    "print(f\"Before Policy: RM {slope_pre:.4f}/day\")\n",
    "print(f\"After Policy:  RM {slope_post:.4f}/day\")\n"
   ]
  },
  {
   "cell_type": "markdown",
   "id": "88e3aedc",
   "metadata": {},
   "source": [
    "Before the policy change, the slope was RM 0.0000/day, indicating that diesel prices were essentially flat and fully controlled, with no upward or downward trend.\n",
    "\n",
    "After the subsidy removal, the slope turned negative – RM0.0012/day, showing a gradual downward trend in diesel prices, likely reflecting market correction following an initial price spike in June 2024."
   ]
  },
  {
   "cell_type": "markdown",
   "id": "79916cab",
   "metadata": {},
   "source": [
    "## Summary of Findings\n",
    "\n",
    "1. Policy Impact on Diesel Prices\n",
    "- After the June 2024 subsidy reform, diesel prices in Peninsular Malaysia shifted to a floating model, while East Malaysia remained subsidized at RM2.15/litre.\n",
    "- This result in average weekly price gap of RM0.91/litre, max at RM1.20/litre, highlighting a clear regional price disparity.\n",
    "\n",
    "2. Volatility and Price Movement\n",
    "\n",
    "- Diesel price volatility increased post-policy (std dev. from RM0.030 to RM0.036/week), indicating greater price fluctuations in the deregulated Peninsular market.\n",
    "- The price trend slope changed from RM0.0000/day to –RM0.0012 MYR/day, suggesting a market correction after the initial policy-driven spike.\n",
    "\n",
    "3. RON97 Price Dynamics\n",
    "- The largest weekly jump for RON97 was 8.29%. \n",
    "- The largest monthly jump occurred from May to June 2022, with a 19.29% increase, reflecting price sensitivity to external economic factors.\n",
    "\n",
    "4. Rolling Averages and Trend Analysis\n",
    "- 4-week rolling averages smooth volatility and distinguish post-policy fluctuations, especially in Peninsular diesel prices.\n",
    "- East Malaysia prices remained stable, showing the effect of the continued subsidy."
   ]
  }
 ],
 "metadata": {
  "kernelspec": {
   "display_name": "nlp_env",
   "language": "python",
   "name": "python3"
  },
  "language_info": {
   "codemirror_mode": {
    "name": "ipython",
    "version": 3
   },
   "file_extension": ".py",
   "mimetype": "text/x-python",
   "name": "python",
   "nbconvert_exporter": "python",
   "pygments_lexer": "ipython3",
   "version": "3.12.9"
  }
 },
 "nbformat": 4,
 "nbformat_minor": 5
}
